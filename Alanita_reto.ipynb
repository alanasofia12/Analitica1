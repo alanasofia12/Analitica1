{
  "nbformat": 4,
  "nbformat_minor": 0,
  "metadata": {
    "colab": {
      "provenance": [],
      "authorship_tag": "ABX9TyMYO9pcGD6DD3mEm8+mP1bJ",
      "include_colab_link": true
    },
    "kernelspec": {
      "name": "python3",
      "display_name": "Python 3"
    },
    "language_info": {
      "name": "python"
    }
  },
  "cells": [
    {
      "cell_type": "markdown",
      "metadata": {
        "id": "view-in-github",
        "colab_type": "text"
      },
      "source": [
        "<a href=\"https://colab.research.google.com/github/alanasofia12/Analitica1/blob/main/Alanita_reto.ipynb\" target=\"_parent\"><img src=\"https://colab.research.google.com/assets/colab-badge.svg\" alt=\"Open In Colab\"/></a>"
      ]
    },
    {
      "cell_type": "code",
      "execution_count": null,
      "metadata": {
        "id": "85O-PE0GC440"
      },
      "outputs": [],
      "source": [
        "import numpy as np\n",
        "import pandas as pd\n"
      ]
    },
    {
      "cell_type": "code",
      "source": [
        "# 1. Se procede con la carga de la base de datos\n",
        "nxl =\"/content/1. BD2_CarCrash_Int.xlsx\"\n",
        "XDB = pd.read_excel(nxl)"
      ],
      "metadata": {
        "id": "58tGnGBQEY2z"
      },
      "execution_count": null,
      "outputs": []
    },
    {
      "cell_type": "code",
      "source": [
        "#1.1 Se carga las variables de la base de datos\n",
        "XDB=XDB[['Weekday','Severity','ViolCat','ClearWeather','Month','CrashType','Highway','Daylight']]\n",
        "\n",
        "\n",
        "#Separamos las variables por Entrada-Salida\n",
        "XD=XDB[['Weekday','Severity','ViolCat', 'ClearWeather','Month','CrashType','Daylight']] #Corrected the typo from 'CrahType' to 'CrashType'\n",
        "yd=XDB[['Highway']] #Aquí están las variables de referencia\n",
        "\n",
        "# Crea un diccionario que mapea cada valor único de 'CrashType' a un número según el orden alfabético\n",
        "crash_type_mapping = {crash_type: i for i, crash_type in enumerate(sorted(XDB['CrashType'].unique()))}\n",
        "\n",
        "# Aplica el mapeo a la columna 'CrashType'\n",
        "XD['CrashType'] = XD['CrashType'].map(crash_type_mapping) # Changed XDB to XD to apply mapping to the input features\n",
        "\n",
        "# Fit the GaussianNB model\n",
        "mnd=GaussianNB()\n",
        "mnd.fit(XD,yd)\n",
        "\n",
        "mnd=GaussianNB()\n",
        "mnd.fit(XD,yd)\n",
        "ydp=mnd.predict (XD)\n"
      ],
      "metadata": {
        "colab": {
          "base_uri": "https://localhost:8080/"
        },
        "collapsed": true,
        "id": "VllDk_e6KbNc",
        "outputId": "d68ceba4-948e-4cde-a805-3128b35d62d5"
      },
      "execution_count": null,
      "outputs": [
        {
          "output_type": "stream",
          "name": "stderr",
          "text": [
            "<ipython-input-191-fae4fbcc047e>:13: SettingWithCopyWarning: \n",
            "A value is trying to be set on a copy of a slice from a DataFrame.\n",
            "Try using .loc[row_indexer,col_indexer] = value instead\n",
            "\n",
            "See the caveats in the documentation: https://pandas.pydata.org/pandas-docs/stable/user_guide/indexing.html#returning-a-view-versus-a-copy\n",
            "  XD['CrashType'] = XD['CrashType'].map(crash_type_mapping) # Changed XDB to XD to apply mapping to the input features\n",
            "/usr/local/lib/python3.11/dist-packages/sklearn/utils/validation.py:1408: DataConversionWarning: A column-vector y was passed when a 1d array was expected. Please change the shape of y to (n_samples, ), for example using ravel().\n",
            "  y = column_or_1d(y, warn=True)\n",
            "/usr/local/lib/python3.11/dist-packages/sklearn/utils/validation.py:1408: DataConversionWarning: A column-vector y was passed when a 1d array was expected. Please change the shape of y to (n_samples, ), for example using ravel().\n",
            "  y = column_or_1d(y, warn=True)\n"
          ]
        }
      ]
    },
    {
      "cell_type": "code",
      "source": [
        "#2 Se empieza con el desarrollo del trabajo\n",
        "from sklearn.naive_bayes import GaussianNB\n",
        "mnb = GaussianNB()\n",
        "mnb.fit(XD,yd)\n",
        "\n",
        "#se obtiene la informacion\n",
        "ct=mnb.class_count_\n",
        "print(\"El total de los datos es:\",len(XD))\n",
        "print(\"los datos porcentualmente estan div:\",ct/len(XD))\n",
        "#Respuesta: Se encuentra divido en un 28% causado en autopista y un 71% no\n",
        "#El total de los dato son 112660\n",
        "\n",
        "\n",
        "\n"
      ],
      "metadata": {
        "colab": {
          "base_uri": "https://localhost:8080/"
        },
        "id": "TzFTU0Q7NLzf",
        "outputId": "18a174c2-d89c-46ce-ae2d-fec3674e9ec3"
      },
      "execution_count": null,
      "outputs": [
        {
          "output_type": "stream",
          "name": "stdout",
          "text": [
            "El total de los datos es: 112660\n",
            "los datos porcentualmente estan div: [0.7148855 0.2851145]\n"
          ]
        },
        {
          "output_type": "stream",
          "name": "stderr",
          "text": [
            "/usr/local/lib/python3.11/dist-packages/sklearn/utils/validation.py:1408: DataConversionWarning: A column-vector y was passed when a 1d array was expected. Please change the shape of y to (n_samples, ), for example using ravel().\n",
            "  y = column_or_1d(y, warn=True)\n"
          ]
        }
      ]
    },
    {
      "cell_type": "code",
      "source": [
        "\n",
        "u=mnd.theta_\n",
        "sigma=np.sqrt(mnd.var_)\n",
        "\n",
        "\n",
        "LI=u-sigma\n",
        "LS=u+sigma\n",
        "\n",
        "print(\"la media de las variables por categoria es:\")\n",
        "print (u)\n",
        "print(\"el limite inferior de la variación de las variables por categoria es:\")\n",
        "print(LI)\n",
        "print(\"el limite superior de la variación de las variables por categoria es:\")\n",
        "print(LS)\n",
        "\n",
        "\n",
        "cm=confusion_matrix(yd,ydp)\n",
        "\n",
        "\n",
        "\n",
        "\n"
      ],
      "metadata": {
        "colab": {
          "base_uri": "https://localhost:8080/"
        },
        "id": "CUE6u4g2X29n",
        "outputId": "42448f64-854c-42e8-88d0-8ecdd68272e1"
      },
      "execution_count": null,
      "outputs": [
        {
          "output_type": "stream",
          "name": "stdout",
          "text": [
            "la media de las variables por categoria es:\n",
            "[[3.90307801 0.06909696 6.79464607 0.89238754 6.67500217 2.80866413\n",
            "  0.69460758]\n",
            " [3.92883161 0.07325426 4.45913888 0.86345382 6.68867719 2.49905047\n",
            "  0.69487251]]\n",
            "el limite inferior de la variación de las variables por categoria es:\n",
            "[[ 1.96994846 -0.18452201  3.1928027   0.58249719  3.31451241  1.31524779\n",
            "   0.23403413]\n",
            " [ 2.01569903 -0.18729916  1.98399159  0.52008618  3.35154117  1.29925827\n",
            "   0.2344111 ]]\n",
            "el limite superior de la variación de las variables por categoria es:\n",
            "[[ 5.83620757  0.32271593 10.39648945  1.20227789 10.03549193  4.30208046\n",
            "   1.15518103]\n",
            " [ 5.84196418  0.33380767  6.93428617  1.20682146 10.02581321  3.69884266\n",
            "   1.15533393]]\n"
          ]
        }
      ]
    },
    {
      "cell_type": "code",
      "source": [
        "#Puntos:6,7,8,9,10 y 11\n",
        "ydp=mnb.predict(XD) #Hazme el pronostico de los positivos y negativos\n",
        "\n",
        "from sklearn.metrics import confusion_matrix\n",
        "cm=confusion_matrix(yd,ydp)\n",
        "print(cm)\n",
        "\n",
        "VN=cm[0,0];FP=cm[0,1];FN=cm[1,0];VP=cm[1,1]\n",
        "\n",
        "Ex=(VN+VP)/(VN+FP+FN+VP)\n",
        "print(\"La exactitud es:\",Ex)\n",
        "\n",
        "TE=(FN+FP)/(VN+FP+FN+VP)\n",
        "print(\"La tasa de error es:\",TE)\n",
        "\n",
        "Sen=VP/(VP+FN)\n",
        "print(\"La sensibilidad es:\",Sen)\n",
        "\n",
        "Esp=VN/(VN+FP)\n",
        "print(\"La especificidad es:\",Esp)\n",
        "\n",
        "pre=VP/(VP+FP)\n",
        "print(\"El presición es:\",pre)\n",
        "\n",
        "pren=VN/(VN+FN)\n",
        "print(\"El presición negativa es:\",pren)\n",
        "\n",
        "#La exactitud es: 0.7081750399431919\n",
        "#La tasa de error es: 0.2918249600568081\n",
        "#La sensibilidad es: 0.1062544752654027\n",
        "#La especificidad es: 0.9482362582103081\n",
        "#El presición es: 0.45014508045370616\n",
        "#El presición negativa es: 0.7267934296427416\n",
        "\n"
      ],
      "metadata": {
        "colab": {
          "base_uri": "https://localhost:8080/"
        },
        "id": "roR8RKA_r-UQ",
        "outputId": "f11216f2-bd00-4b96-a731-73b1d4b97b03"
      },
      "execution_count": null,
      "outputs": [
        {
          "output_type": "stream",
          "name": "stdout",
          "text": [
            "[[76370  4169]\n",
            " [28708  3413]]\n",
            "La exactitud es: 0.7081750399431919\n",
            "La tasa de error es: 0.2918249600568081\n",
            "La sensibilidad es: 0.1062544752654027\n",
            "La especificidad es: 0.9482362582103081\n",
            "El presición es: 0.45014508045370616\n",
            "El presición negativa es: 0.7267934296427416\n"
          ]
        }
      ]
    },
    {
      "cell_type": "markdown",
      "source": [
        "**Analisis **\n",
        "El modelo Naive Bayes arrogo  una exactitud del 70% a lo que se refiere que en la predicción de accidentes en autopistas,ademas, tambien destaca su alta especificida de 93%, a lo que se refiere  que es muy bueno para identificar correctamente los casos en que no hubo un accidente en la autopista. sin embargo, la sensibilidad es baja 12%, lo que indica que el modelo tiene dificultades para identificar correctamente los, por ultimo La precisión del modelo 41% sugiere que cuando predice que hubo un accidente en la autopista, no siempre acierta."
      ],
      "metadata": {
        "id": "t2u5Wl9O1M4S"
      }
    },
    {
      "cell_type": "markdown",
      "source": [],
      "metadata": {
        "id": "sBU883p9F_Yw"
      }
    }
  ]
}